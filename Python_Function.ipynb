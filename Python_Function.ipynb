{
  "nbformat": 4,
  "nbformat_minor": 0,
  "metadata": {
    "colab": {
      "provenance": []
    },
    "kernelspec": {
      "name": "python3",
      "display_name": "Python 3"
    },
    "language_info": {
      "name": "python"
    }
  },
  "cells": [
    {
      "cell_type": "markdown",
      "source": [
        "#Python-Function\n",
        "\n",
        "1. What is the difference between a function and a method in Python.\n",
        "\n",
        ">-A function is a block of reusable code that operates independently, while a method is a function associated with an object and operates on its data.\n",
        "\n",
        " >-Example:\n",
        "Function:\n",
        "def add(a, b):\n",
        "    return a + b\n",
        "\n",
        "Method:\n",
        "class MyClass:\n",
        "    def my_method(self):\n",
        "        return 'This is a method'\n",
        "\n",
        "2. Explain the concept of function arguments and parameters in Python.\n",
        ">-\n",
        "Parameters are variables listed in the function definition, while arguments are the actual values passed to the function during a call.\n",
        "\n",
        "Example:\n",
        "def greet(name):\n",
        "    return f'Hello, {name}'\n",
        "greet('Alice')  # 'Alice' is the argument\n",
        "\n",
        "3. What are the different ways to define and call a function in Python?\n",
        ">-\n",
        "Functions can be defined using the def keyword, lambda expressions, or class methods. Functions are called by their name followed by parentheses, optionally with arguments.\n",
        "\n",
        "Example:\n",
        "def square(x):\n",
        "    return x ** 2\n",
        "square(5)  # Output: 25\n",
        "\n",
        "4. What is the purpose of the return statement in a Python function?\n",
        ">-\n",
        "The return statement sends a value back to the caller of the function. Without it, the function returns None by default.\n",
        "\n",
        "Example:\n",
        "def multiply(a, b):\n",
        "    return a * b\n",
        "multiply(3, 4)  # Output: 12\n",
        "\n",
        "5. What are iterators in Python and how do they differ from iterables?\n",
        ">-\n",
        "An iterable is an object that can return its members one at a time (e.g., lists, tuples), while an iterator is an object that produces the next value using the __next__() method.\n",
        "\n",
        "Example:\n",
        "Iterable:\n",
        "my_list = [1, 2, 3]\n",
        "Iterator:\n",
        "my_iter = iter(my_list)\n",
        "next(my_iter)  # Output: 1\n",
        "\n",
        "6. Explain the concept of generators in Python and how they are defined.\n",
        "\n",
        ">>-Generators are functions that yield values one at a time using the yield keyword instead of returning them all at once.\n",
        "\n",
        "Example:\n",
        "def gen():\n",
        "    yield 1\n",
        "    yield 2\n",
        "list(gen())  # Output: [1, 2]\n",
        "7. What are the advantages of using generators over regular functions?\n",
        "\n",
        "Generators are memory efficient, as they produce items on demand and are useful for handling large datasets or infinite sequences.\n",
        "\n",
        "Example:\n",
        "def infinite_sequence():\n",
        "    n = 0\n",
        "    while True:\n",
        "        yield n\n",
        "        n += 1\n",
        "gen = infinite_sequence()\n",
        "next(gen)  # Output: 0\n",
        "\n",
        "\n",
        "8. What is a lambda function in Python and when is it typically used?\n",
        "\n",
        "A lambda function is a small, anonymous function defined using the lambda keyword. It is commonly used for short, throwaway functions.\n",
        "\n",
        "Example:\n",
        "square = lambda x: x ** 2\n",
        "square(3)  # Output: 9\n",
        "\n",
        "9. Explain the purpose and usage of the map() function in Python.\n",
        "The map() function applies a given function to all items in an iterable and returns a map object.\n",
        "\n",
        "Example:\n",
        "list(map(lambda x: x ** 2, [1, 2, 3]))  # Output: [1, 4, 9]\n",
        "\n",
        "10. What is the difference between map(), reduce(), and filter() functions in Python?\n",
        "\n",
        ">-map(): Transforms all items in an iterable.\n",
        "\n",
        ">-reduce(): Aggregates them into a single value.\n",
        "\n",
        ">-ilter(): Selects items based on a condition.\n",
        "\n",
        "Example:\n",
        "from functools import reduce\n",
        "nums = [1, 2, 3, 4]\n",
        "map_result = list(map(lambda x: x ** 2, nums))  # Output: [1, 4, 9, 16]\n",
        "reduce_result = reduce(lambda x, y: x + y, nums)  # Output: 10\n",
        "filter_result = list(filter(lambda x: x % 2 == 0, nums))  # Output: [2, 4]\n",
        "\n",
        "11. Using pen & paper write the internal mechanism for sum operation using reduce() on [47, 11, 42, 13].\n",
        "Given List: [47, 11, 42, 13]\n",
        "\n",
        "Step 1: Add the first two elements: 47 + 11 = 58\n",
        "Step 2: Add the result with the next element: 58 + 42 = 100\n",
        "Step 3: Add the result with the last element: 100 + 13 = 113\n",
        "\n",
        "Final Result: 113\n",
        "Code:\n",
        "from functools import reduce\n",
        "reduce(lambda x, y: x + y, [47, 11, 42, 13])  # Output: 113\n"
      ],
      "metadata": {
        "id": "Jt7-FflrgNdT"
      }
    },
    {
      "cell_type": "code",
      "execution_count": 10,
      "metadata": {
        "colab": {
          "base_uri": "https://localhost:8080/"
        },
        "id": "KA1dGSivf-33",
        "outputId": "a7317ebc-3864-49db-f036-f73fae4407db"
      },
      "outputs": [
        {
          "output_type": "stream",
          "name": "stdout",
          "text": [
            "14\n"
          ]
        }
      ],
      "source": [
        "#1. Write a Python function that takes a list of numbers as input and returns the sum of all even numbers in the list.\n",
        "\n",
        "number=(1,2,4,8,9,3)\n",
        "def sum_of_evens(numbers):\n",
        "    return sum(num for num in numbers if num % 2 == 0)\n",
        "print(sum_of_evens(number))\n",
        "\n"
      ]
    },
    {
      "cell_type": "code",
      "source": [
        "#2. Create a Python function that accepts a string and returns the reverse of that string.\n",
        "\n",
        "string=\"hello world\"\n",
        "def reverse_string(s):\n",
        "    return s[::-1]\n",
        "print(reverse_string(string))\n"
      ],
      "metadata": {
        "colab": {
          "base_uri": "https://localhost:8080/"
        },
        "id": "GEzKYhNEk6jy",
        "outputId": "f7a1df45-24d4-4b21-f7e4-470d5be6403d"
      },
      "execution_count": 13,
      "outputs": [
        {
          "output_type": "stream",
          "name": "stdout",
          "text": [
            "dlrow olleh\n"
          ]
        }
      ]
    },
    {
      "cell_type": "code",
      "source": [
        "#3. Implement a Python function that takes a list of integers and returns a new list containing the squares of each number.\n",
        "\n",
        "number=(1,2,4,8,9,3)\n",
        "def square_numbers(numbers):\n",
        "    return [num ** 2 for num in numbers]\n",
        "print(square_numbers(number))\n"
      ],
      "metadata": {
        "colab": {
          "base_uri": "https://localhost:8080/"
        },
        "id": "wmov_MDck6Sl",
        "outputId": "d410f3ca-d413-4679-f1a6-100eeaad93da"
      },
      "execution_count": 14,
      "outputs": [
        {
          "output_type": "stream",
          "name": "stdout",
          "text": [
            "[1, 4, 16, 64, 81, 9]\n"
          ]
        }
      ]
    },
    {
      "cell_type": "code",
      "source": [
        "\n",
        "#4. Write a Python function that checks if a given number is prime or not from 1 to 200.\n",
        "\n",
        "def is_prime(n):\n",
        "    if n <= 1:\n",
        "        return False\n",
        "    for i in range(2, int(n ** 0.5) + 1):\n",
        "        if n % i == 0:\n",
        "            return False\n",
        "    return True\n",
        "\n",
        "primes = [n for n in range(1, 201) if is_prime(n)]\n",
        "print(primes)"
      ],
      "metadata": {
        "colab": {
          "base_uri": "https://localhost:8080/"
        },
        "id": "kn2R_uyUk6LK",
        "outputId": "b653d2b5-9972-4516-8cd8-00a76f98ee66"
      },
      "execution_count": 16,
      "outputs": [
        {
          "output_type": "stream",
          "name": "stdout",
          "text": [
            "[2, 3, 5, 7, 11, 13, 17, 19, 23, 29, 31, 37, 41, 43, 47, 53, 59, 61, 67, 71, 73, 79, 83, 89, 97, 101, 103, 107, 109, 113, 127, 131, 137, 139, 149, 151, 157, 163, 167, 173, 179, 181, 191, 193, 197, 199]\n"
          ]
        }
      ]
    },
    {
      "cell_type": "code",
      "source": [
        "\n",
        "#5. Create an iterator class in Python that generates the Fibonacci sequence up to a specified number of terms.\n"
      ],
      "metadata": {
        "id": "AQSVbfxzk6GH"
      },
      "execution_count": 26,
      "outputs": []
    },
    {
      "cell_type": "code",
      "source": [
        "#6. Write a generator function in Python that yields the powers of 2 up to a given exponent.\n",
        "\n",
        "def powers_of_two(max):\n",
        "    for exponent in range(max + 1):\n",
        "        yield 2 ** exponent\n",
        "\n",
        "\n",
        "for power in powers_of_two(5):\n",
        "    print(power)\n",
        "\n",
        "\n",
        "\n"
      ],
      "metadata": {
        "colab": {
          "base_uri": "https://localhost:8080/"
        },
        "id": "lSVN-CV0k6Am",
        "outputId": "bab6e96c-bb07-45ea-82ee-763f393dc4d8"
      },
      "execution_count": 28,
      "outputs": [
        {
          "output_type": "stream",
          "name": "stdout",
          "text": [
            "1\n",
            "2\n",
            "4\n",
            "8\n",
            "16\n",
            "32\n"
          ]
        }
      ]
    },
    {
      "cell_type": "code",
      "source": [
        "#7. Implement a generator function that reads a file line by line and yields each line as a string.\n",
        "\n"
      ],
      "metadata": {
        "id": "HwI6t8btk596"
      },
      "execution_count": null,
      "outputs": []
    },
    {
      "cell_type": "code",
      "source": [
        "#8. Use a lambda function in Python to sort a list of tuples based on the second element of each tuple.\n",
        "\n",
        "tuples = [(1, 5), (3, 2), (4, 8), (2, 1)]\n",
        "\n",
        "\n",
        "sorted_tuples = sorted(tuples, key=lambda x: x[1])\n",
        "\n",
        "print( sorted_tuples)\n",
        "\n"
      ],
      "metadata": {
        "colab": {
          "base_uri": "https://localhost:8080/"
        },
        "id": "q2SQmD7tk57N",
        "outputId": "83d79d21-bc5a-479b-d8be-29915f9c7010"
      },
      "execution_count": 22,
      "outputs": [
        {
          "output_type": "stream",
          "name": "stdout",
          "text": [
            "[(2, 1), (3, 2), (1, 5), (4, 8)]\n"
          ]
        }
      ]
    },
    {
      "cell_type": "code",
      "source": [
        "#9. Write a Python program that uses `map()` to convert a list of temperatures from Celsius to Fahrenheit.\n",
        "\n",
        "def celsius_to_fahrenheit(celsius):\n",
        "    return (celsius * 9/5) + 32\n",
        "\n",
        "celsius_temperatures = [0, 20, 37, 100, -5]\n",
        "\n",
        "\n",
        "fahrenheit_temperatures = list(map(celsius_to_fahrenheit, celsius_temperatures))\n",
        "\n",
        "\n",
        "print(\"Temperatures in Celsius:\", celsius_temperatures)\n",
        "print(\"Temperatures in Fahrenheit:\", fahrenheit_temperatures)\n",
        "\n"
      ],
      "metadata": {
        "colab": {
          "base_uri": "https://localhost:8080/"
        },
        "id": "k6n06iH8k52q",
        "outputId": "f18dbcbe-6acf-459d-a4c5-fee2e8a8ea95"
      },
      "execution_count": 24,
      "outputs": [
        {
          "output_type": "stream",
          "name": "stdout",
          "text": [
            "Temperatures in Celsius: [0, 20, 37, 100, -5]\n",
            "Temperatures in Fahrenheit: [32.0, 68.0, 98.6, 212.0, 23.0]\n"
          ]
        }
      ]
    },
    {
      "cell_type": "code",
      "source": [
        "#10. Create a Python program that uses `filter()` to remove all the vowels from a given string.\n",
        "\n",
        "def remove_vowels(input_string):\n",
        "    vowels = 'aeiouAEIOU'\n",
        "    result = filter(lambda char: char not in vowels, input_string)\n",
        "    return ''.join(result)\n",
        "\n",
        "# Example usage\n",
        "user_input = input(\"Enter a string: \")\n",
        "result = remove_vowels(user_input)\n",
        "print(\"String after removing vowels:\", result)"
      ],
      "metadata": {
        "colab": {
          "base_uri": "https://localhost:8080/"
        },
        "id": "CJQdcpcTk5vC",
        "outputId": "a54ba260-c8bb-4e02-d113-33959ccf8822"
      },
      "execution_count": 25,
      "outputs": [
        {
          "output_type": "stream",
          "name": "stdout",
          "text": [
            "Enter a string: vivek\n",
            "String after removing vowels: vvk\n"
          ]
        }
      ]
    },
    {
      "cell_type": "code",
      "source": [
        "#11.\n",
        "def process_orders(order_list):\n",
        "    processed_orders = []\n",
        "\n",
        "    for order in order_list:\n",
        "        order_number, quantity, price_per_item = order\n",
        "        total_cost = quantity * price_per_item\n",
        "        if total_cost < 100.00:\n",
        "            total_cost += 10.00\n",
        "        processed_orders.append((order_number, total_cost))\n",
        "\n",
        "    return processed_orders\n",
        "\n",
        "\n",
        "orders = [\n",
        "    [34587, 4, 40.00],\n",
        "    [98762, 5, 56.00],\n",
        "    [77226, 3, 32.00],\n",
        "    [88112, 3, 24.00]\n",
        "]\n",
        "\n",
        "result = process_orders(orders)\n",
        "print(\"Processed orders:\", result)"
      ],
      "metadata": {
        "colab": {
          "base_uri": "https://localhost:8080/"
        },
        "id": "1aASMl2ck5T1",
        "outputId": "73290a37-2870-464e-bbc3-c9d8c30c1d5e"
      },
      "execution_count": 27,
      "outputs": [
        {
          "output_type": "stream",
          "name": "stdout",
          "text": [
            "Processed orders: [(34587, 90.0), (98762, 60.0), (77226, 70.0), (88112, 105.0)]\n"
          ]
        }
      ]
    },
    {
      "cell_type": "markdown",
      "source": [],
      "metadata": {
        "id": "S_ytXVpCgLC7"
      }
    }
  ]
}